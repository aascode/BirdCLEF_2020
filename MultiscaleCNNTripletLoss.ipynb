{
  "nbformat": 4,
  "nbformat_minor": 0,
  "metadata": {
    "colab": {
      "name": "MultiscaleCNNTripletLoss.ipynb",
      "provenance": [],
      "collapsed_sections": [
        "MVd1KUMD29YW"
      ],
      "mount_file_id": "1Rc49UQ_AqZOzk40D36xfbywJNFocTEJv",
      "authorship_tag": "ABX9TyNlHlqWaB2mOth+Mf0dZWrf",
      "include_colab_link": true
    },
    "kernelspec": {
      "name": "python3",
      "display_name": "Python 3"
    }
  },
  "cells": [
    {
      "cell_type": "markdown",
      "metadata": {
        "id": "view-in-github",
        "colab_type": "text"
      },
      "source": [
        "<a href=\"https://colab.research.google.com/github/clementino1971/BirdCLEF_2020/blob/master/MultiscaleCNNTripletLoss.ipynb\" target=\"_parent\"><img src=\"https://colab.research.google.com/assets/colab-badge.svg\" alt=\"Open In Colab\"/></a>"
      ]
    },
    {
      "cell_type": "code",
      "metadata": {
        "id": "OC6oXeN0wmbU",
        "colab_type": "code",
        "colab": {}
      },
      "source": [
        "#from keras.models import Sequential\n",
        "#from keras.layers import Dense, Conv2D, Flatten, GlobalAveragePooling2D\n",
        "\n",
        "import matplotlib.pyplot as plt\n",
        "import pandas as pd\n",
        "import numpy as np\n",
        "import tensorflow as tf\n",
        "from tensorflow import keras\n",
        "from tensorflow.keras import layers \n",
        "from keras.regularizers import l2\n",
        "from sklearn.model_selection import train_test_split\n",
        "import tensorflow_addons as tfa"
      ],
      "execution_count": 0,
      "outputs": []
    },
    {
      "cell_type": "markdown",
      "metadata": {
        "id": "MVd1KUMD29YW",
        "colab_type": "text"
      },
      "source": [
        "#Data: Import and treat"
      ]
    },
    {
      "cell_type": "code",
      "metadata": {
        "id": "ATVuio_7Aj_3",
        "colab_type": "code",
        "outputId": "a56783fb-2752-40d9-d0b7-1c9556e8215b",
        "colab": {
          "base_uri": "https://localhost:8080/",
          "height": 204
        }
      },
      "source": [
        "#Getting the data in .json\n",
        "data = pd.read_json('/content/drive/My Drive/Colab Notebooks/train.json',)\n",
        "data.head()"
      ],
      "execution_count": 2,
      "outputs": [
        {
          "output_type": "execute_result",
          "data": {
            "text/html": [
              "<div>\n",
              "<style scoped>\n",
              "    .dataframe tbody tr th:only-of-type {\n",
              "        vertical-align: middle;\n",
              "    }\n",
              "\n",
              "    .dataframe tbody tr th {\n",
              "        vertical-align: top;\n",
              "    }\n",
              "\n",
              "    .dataframe thead th {\n",
              "        text-align: right;\n",
              "    }\n",
              "</style>\n",
              "<table border=\"1\" class=\"dataframe\">\n",
              "  <thead>\n",
              "    <tr style=\"text-align: right;\">\n",
              "      <th></th>\n",
              "      <th>input</th>\n",
              "      <th>class</th>\n",
              "    </tr>\n",
              "  </thead>\n",
              "  <tbody>\n",
              "    <tr>\n",
              "      <th>0</th>\n",
              "      <td>[[[36, 52, 54], [53, 55, 55], [58, 59, 50], [4...</td>\n",
              "      <td>drwtyr1</td>\n",
              "    </tr>\n",
              "    <tr>\n",
              "      <th>1</th>\n",
              "      <td>[[[0, 0, 0], [0, 0, 0], [0, 0, 0], [0, 0, 0], ...</td>\n",
              "      <td>drwtyr1</td>\n",
              "    </tr>\n",
              "    <tr>\n",
              "      <th>2</th>\n",
              "      <td>[[[0, 13, 39], [49, 47, 52], [50, 52, 51], [46...</td>\n",
              "      <td>drwtyr1</td>\n",
              "    </tr>\n",
              "    <tr>\n",
              "      <th>3</th>\n",
              "      <td>[[[0, 0, 0], [0, 0, 2], [0, 0, 0], [2, 2, 6], ...</td>\n",
              "      <td>drwtyr1</td>\n",
              "    </tr>\n",
              "    <tr>\n",
              "      <th>4</th>\n",
              "      <td>[[[22, 68, 92], [100, 73, 71], [72, 71, 77], [...</td>\n",
              "      <td>drwtyr1</td>\n",
              "    </tr>\n",
              "  </tbody>\n",
              "</table>\n",
              "</div>"
            ],
            "text/plain": [
              "                                               input    class\n",
              "0  [[[36, 52, 54], [53, 55, 55], [58, 59, 50], [4...  drwtyr1\n",
              "1  [[[0, 0, 0], [0, 0, 0], [0, 0, 0], [0, 0, 0], ...  drwtyr1\n",
              "2  [[[0, 13, 39], [49, 47, 52], [50, 52, 51], [46...  drwtyr1\n",
              "3  [[[0, 0, 0], [0, 0, 2], [0, 0, 0], [2, 2, 6], ...  drwtyr1\n",
              "4  [[[22, 68, 92], [100, 73, 71], [72, 71, 77], [...  drwtyr1"
            ]
          },
          "metadata": {
            "tags": []
          },
          "execution_count": 2
        }
      ]
    },
    {
      "cell_type": "code",
      "metadata": {
        "id": "Blc2Y1-5FUda",
        "colab_type": "code",
        "colab": {}
      },
      "source": [
        "mapa = {}\n",
        "top = data['class']\n",
        "top = top.unique()\n",
        "\n",
        "cont = 0\n",
        "for i in top:\n",
        "  mapa[i] = cont\n",
        "  cont +=1\n",
        "\n",
        "data['class'] = data['class'].map(lambda s: mapa[s] if s in mapa else s)"
      ],
      "execution_count": 0,
      "outputs": []
    },
    {
      "cell_type": "code",
      "metadata": {
        "id": "LqB77F5TzBoA",
        "colab_type": "code",
        "colab": {}
      },
      "source": [
        "X = [x for x in data['input']]\n",
        "Y = [y for y in data['class']]\n",
        "\n",
        "X_train, X_test, y_train, y_test = train_test_split(X, Y, test_size=0.2, random_state=42)\n",
        "\n",
        "X_train = np.array(X_train)\n",
        "y_train = np.array(y_train)\n",
        "X_test = np.array(X_test)\n",
        "y_test = np.array(y_test)"
      ],
      "execution_count": 0,
      "outputs": []
    },
    {
      "cell_type": "markdown",
      "metadata": {
        "id": "eKHR2mAXYP_g",
        "colab_type": "text"
      },
      "source": [
        "# Model\n"
      ]
    },
    {
      "cell_type": "markdown",
      "metadata": {
        "id": "8oJtR5rUYcR-",
        "colab_type": "text"
      },
      "source": [
        "###Deep Metric Learning\n"
      ]
    },
    {
      "cell_type": "code",
      "metadata": {
        "id": "CdNAvupX-kaX",
        "colab_type": "code",
        "colab": {}
      },
      "source": [
        "#Template of Multiscale Analysis Module\n",
        "def MAM(in_mam):\n",
        "  str1 = layers.Conv2D(64,kernel_size=(1,1),padding=\"same\",activation='relu')(in_mam)\n",
        "\n",
        "  str2 = layers.Conv2D(32,kernel_size=(1,1),padding=\"same\",activation='relu')(in_mam)\n",
        "  str2 = layers.Conv2D(64,kernel_size=(3,3),padding=\"same\",activation='relu')(str2)\n",
        "\n",
        "  str3 = layers.Conv2D(32,kernel_size=(1,1),padding=\"same\",activation='relu')(in_mam)\n",
        "  str3 = layers.Conv2D(64,kernel_size=(5,5),padding=\"same\",activation='relu')(str3)\n",
        "\n",
        "  str4 = layers.Conv2D(32,kernel_size=(1,1),padding=\"same\",activation='relu')(in_mam)\n",
        "  str4 = layers.Conv2D(64,kernel_size=(7,7),padding=\"same\",activation='relu')(str4)\n",
        "\n",
        "  mam = layers.concatenate([str1,str2,str3,str4])\n",
        "  return mam\n",
        "\n",
        "#BEGIN OF MULTISCALE CNN\n",
        "Input = keras.Input(shape=(40, 200, 3))\n",
        "\n",
        "#CONV1\n",
        "x = layers.Conv2D(64, kernel_size=(3,3), strides=(1,1),padding=\"same\",activation='relu')(Input)\n",
        "#MAM1\n",
        "x = MAM(x)\n",
        "#CONV2\n",
        "x = layers.Conv2D(64, kernel_size=3,strides=(2,1),padding=\"same\",activation='relu')(x)\n",
        "#MAM2\n",
        "x = MAM(x)\n",
        "#CONV3\n",
        "x = layers.Conv2D(64, kernel_size=3,strides=(2,1),padding=\"same\",activation='relu')(x)\n",
        "#MAM1\n",
        "x = MAM(x)\n",
        "#CONV4\n",
        "x = layers.Conv2D(64, kernel_size=3,strides=(2,1),padding=\"same\",activation='relu')(x)\n",
        "#MAM1\n",
        "x = MAM(x)\n",
        "#CONV5\n",
        "x = layers.Conv2D(64, kernel_size=3,strides=(5,1), padding=\"same\",activation='relu')(x)\n",
        "x = layers.GlobalAveragePooling2D()(x)\n",
        "x = layers.Dropout(0.4)(x)\n",
        "x = layers.Dense(256,activation='relu',kernel_regularizer=l2(0.0001), bias_regularizer=l2(0.0001))(x)\n",
        "x = layers.Dropout(0.4)(x)\n",
        "x = layers.Dense(128,activation='relu',kernel_regularizer=l2(0.0001), bias_regularizer=l2(0.0001))(x)\n",
        "x = layers.Dropout(0.4)(x)\n",
        "emb128 = layers.Dense(128,activation='linear',kernel_regularizer=l2(0.0001), bias_regularizer=l2(0.0001))(x)\n",
        "\n",
        "model1 = keras.Model(inputs=Input, outputs=emb128, name=\"Multiscale_CNN\")\n",
        "\n",
        "#To see the summary of model uncoment here\n",
        "#model1.summary()\n",
        "#To see a plot of model uncoment here\n",
        "#keras.utils.plot_model(model1, \"deep_metric_learning.png\", show_shapes=True)"
      ],
      "execution_count": 0,
      "outputs": []
    },
    {
      "cell_type": "code",
      "metadata": {
        "id": "84xsYdLF4oIN",
        "colab_type": "code",
        "colab": {}
      },
      "source": [
        "model1.compile(\n",
        "    optimizer=keras.optimizers.Adagrad(),\n",
        "    loss=tfa.losses.TripletSemiHardLoss())"
      ],
      "execution_count": 0,
      "outputs": []
    },
    {
      "cell_type": "code",
      "metadata": {
        "id": "sVvXNdQV8pjN",
        "colab_type": "code",
        "outputId": "5f9565c5-0cde-4cd9-b5bf-5f4ae67b225a",
        "colab": {
          "base_uri": "https://localhost:8080/",
          "height": 187
        }
      },
      "source": [
        "history = model1.fit(X_train, y_train, batch_size=32, epochs=5)"
      ],
      "execution_count": 8,
      "outputs": [
        {
          "output_type": "stream",
          "text": [
            "Epoch 1/5\n",
            "40/40 [==============================] - 709s 18s/step - loss: 1.1889\n",
            "Epoch 2/5\n",
            "40/40 [==============================] - 685s 17s/step - loss: 0.7314\n",
            "Epoch 3/5\n",
            "40/40 [==============================] - 673s 17s/step - loss: 0.7801\n",
            "Epoch 4/5\n",
            "40/40 [==============================] - 688s 17s/step - loss: 0.6897\n",
            "Epoch 5/5\n",
            "40/40 [==============================] - 715s 18s/step - loss: 0.6596\n"
          ],
          "name": "stdout"
        }
      ]
    },
    {
      "cell_type": "code",
      "metadata": {
        "id": "f6OnUTRvioud",
        "colab_type": "code",
        "colab": {}
      },
      "source": [
        "#getting embeddinds from the Multiscale CNN trained\n",
        "embeddings = model1.predict(X_train)\n",
        "\n",
        "#Uncoment here to save the model in the Disk\n",
        "\n",
        "# serialize model to JSON\n",
        "#model_json = model1.to_json()\n",
        "#with open(\"/content/drive/My Drive/Colab Notebooks/model1.json\", \"w\") as json_file:\n",
        "#    json_file.write(model_json)\n",
        "# serialize weights to HDF5\n",
        "#model1.save_weights(\"/content/drive/My Drive/Colab Notebooks/model.h5\")\n",
        "#print(\"Saved model to disk\")"
      ],
      "execution_count": 0,
      "outputs": []
    },
    {
      "cell_type": "markdown",
      "metadata": {
        "id": "X82vg2AtYzPk",
        "colab_type": "text"
      },
      "source": [
        "###Classification (MPL architeture)\n",
        "\n"
      ]
    },
    {
      "cell_type": "code",
      "metadata": {
        "id": "g5n-5epgY3_i",
        "colab_type": "code",
        "outputId": "b20ff640-8758-494e-d02c-a6d5472c754c",
        "colab": {
          "base_uri": "https://localhost:8080/",
          "height": 312
        }
      },
      "source": [
        "#Input Layer\n",
        "Input = keras.Input(shape=(128))\n",
        "#Hidden Layer\n",
        "x = layers.Dense(units=256,activation='relu')(Input)\n",
        "#Output to 3 Classes\n",
        "x = layers.Dense(units=3,activation='softmax')(x)\n",
        "\n",
        "model2 = keras.Model(inputs=Input, outputs=x, name=\"MLP\")\n",
        "\n",
        "#To see the summary of model uncoment here\n",
        "#model2.summary()\n",
        "#To see a plot of model uncoment here\n",
        "#keras.utils.plot_model(model2, \"classification.png\", show_shapes=True)"
      ],
      "execution_count": 74,
      "outputs": [
        {
          "output_type": "execute_result",
          "data": {
            "image/png": "[encoded data removed]",
            "text/plain": [
              "<IPython.core.display.Image object>"
            ]
          },
          "metadata": {
            "tags": []
          },
          "execution_count": 74
        }
      ]
    },
    {
      "cell_type": "code",
      "metadata": {
        "id": "_kRio4sLx5aO",
        "colab_type": "code",
        "colab": {}
      },
      "source": [
        "model2.compile(\n",
        "    optimizer=keras.optimizers.Adam(),\n",
        "    loss=keras.losses.CategoricalCrossentropy(),\n",
        "    metrics=['accuracy']\n",
        "    )"
      ],
      "execution_count": 0,
      "outputs": []
    },
    {
      "cell_type": "code",
      "metadata": {
        "id": "UR_48aceyFzZ",
        "colab_type": "code",
        "colab": {
          "base_uri": "https://localhost:8080/",
          "height": 1000
        },
        "outputId": "92413134-b801-437b-a85c-9b7082a7ba4a"
      },
      "source": [
        "y_train_onehot = keras.utils.to_categorical(y_train)\n",
        "\n",
        "history = model2.fit(embeddings, y_train_onehot, batch_size=256,epochs=100)"
      ],
      "execution_count": 78,
      "outputs": [
        {
          "output_type": "stream",
          "text": [
            "Epoch 1/100\n",
            "5/5 [==============================] - 0s 3ms/step - loss: 0.4945 - accuracy: 0.8871\n",
            "Epoch 2/100\n",
            "5/5 [==============================] - 0s 3ms/step - loss: 0.4607 - accuracy: 0.8863\n",
            "Epoch 3/100\n",
            "5/5 [==============================] - 0s 3ms/step - loss: 0.4318 - accuracy: 0.8879\n",
            "Epoch 4/100\n",
            "5/5 [==============================] - 0s 2ms/step - loss: 0.4081 - accuracy: 0.8879\n",
            "Epoch 5/100\n",
            "5/5 [==============================] - 0s 3ms/step - loss: 0.3880 - accuracy: 0.8887\n",
            "Epoch 6/100\n",
            "5/5 [==============================] - 0s 3ms/step - loss: 0.3728 - accuracy: 0.8856\n",
            "Epoch 7/100\n",
            "5/5 [==============================] - 0s 2ms/step - loss: 0.3578 - accuracy: 0.8903\n",
            "Epoch 8/100\n",
            "5/5 [==============================] - 0s 3ms/step - loss: 0.3472 - accuracy: 0.8911\n",
            "Epoch 9/100\n",
            "5/5 [==============================] - 0s 3ms/step - loss: 0.3368 - accuracy: 0.8934\n",
            "Epoch 10/100\n",
            "5/5 [==============================] - 0s 3ms/step - loss: 0.3289 - accuracy: 0.8919\n",
            "Epoch 11/100\n",
            "5/5 [==============================] - 0s 3ms/step - loss: 0.3219 - accuracy: 0.8934\n",
            "Epoch 12/100\n",
            "5/5 [==============================] - 0s 3ms/step - loss: 0.3152 - accuracy: 0.8927\n",
            "Epoch 13/100\n",
            "5/5 [==============================] - 0s 3ms/step - loss: 0.3095 - accuracy: 0.8950\n",
            "Epoch 14/100\n",
            "5/5 [==============================] - 0s 3ms/step - loss: 0.3047 - accuracy: 0.8958\n",
            "Epoch 15/100\n",
            "5/5 [==============================] - 0s 3ms/step - loss: 0.2993 - accuracy: 0.8966\n",
            "Epoch 16/100\n",
            "5/5 [==============================] - 0s 3ms/step - loss: 0.2951 - accuracy: 0.8958\n",
            "Epoch 17/100\n",
            "5/5 [==============================] - 0s 3ms/step - loss: 0.2911 - accuracy: 0.8990\n",
            "Epoch 18/100\n",
            "5/5 [==============================] - 0s 3ms/step - loss: 0.2867 - accuracy: 0.8966\n",
            "Epoch 19/100\n",
            "5/5 [==============================] - 0s 3ms/step - loss: 0.2832 - accuracy: 0.8990\n",
            "Epoch 20/100\n",
            "5/5 [==============================] - 0s 3ms/step - loss: 0.2796 - accuracy: 0.8990\n",
            "Epoch 21/100\n",
            "5/5 [==============================] - 0s 3ms/step - loss: 0.2765 - accuracy: 0.9006\n",
            "Epoch 22/100\n",
            "5/5 [==============================] - 0s 3ms/step - loss: 0.2724 - accuracy: 0.9006\n",
            "Epoch 23/100\n",
            "5/5 [==============================] - 0s 3ms/step - loss: 0.2697 - accuracy: 0.9021\n",
            "Epoch 24/100\n",
            "5/5 [==============================] - 0s 3ms/step - loss: 0.2663 - accuracy: 0.9021\n",
            "Epoch 25/100\n",
            "5/5 [==============================] - 0s 4ms/step - loss: 0.2647 - accuracy: 0.9053\n",
            "Epoch 26/100\n",
            "5/5 [==============================] - 0s 3ms/step - loss: 0.2608 - accuracy: 0.9069\n",
            "Epoch 27/100\n",
            "5/5 [==============================] - 0s 3ms/step - loss: 0.2580 - accuracy: 0.9037\n",
            "Epoch 28/100\n",
            "5/5 [==============================] - 0s 3ms/step - loss: 0.2565 - accuracy: 0.9092\n",
            "Epoch 29/100\n",
            "5/5 [==============================] - 0s 3ms/step - loss: 0.2529 - accuracy: 0.9092\n",
            "Epoch 30/100\n",
            "5/5 [==============================] - 0s 3ms/step - loss: 0.2510 - accuracy: 0.9100\n",
            "Epoch 31/100\n",
            "5/5 [==============================] - 0s 3ms/step - loss: 0.2482 - accuracy: 0.9108\n",
            "Epoch 32/100\n",
            "5/5 [==============================] - 0s 2ms/step - loss: 0.2459 - accuracy: 0.9124\n",
            "Epoch 33/100\n",
            "5/5 [==============================] - 0s 2ms/step - loss: 0.2433 - accuracy: 0.9124\n",
            "Epoch 34/100\n",
            "5/5 [==============================] - 0s 2ms/step - loss: 0.2409 - accuracy: 0.9140\n",
            "Epoch 35/100\n",
            "5/5 [==============================] - 0s 2ms/step - loss: 0.2391 - accuracy: 0.9163\n",
            "Epoch 36/100\n",
            "5/5 [==============================] - 0s 3ms/step - loss: 0.2378 - accuracy: 0.9163\n",
            "Epoch 37/100\n",
            "5/5 [==============================] - 0s 3ms/step - loss: 0.2350 - accuracy: 0.9163\n",
            "Epoch 38/100\n",
            "5/5 [==============================] - 0s 3ms/step - loss: 0.2345 - accuracy: 0.9227\n",
            "Epoch 39/100\n",
            "5/5 [==============================] - 0s 3ms/step - loss: 0.2312 - accuracy: 0.9195\n",
            "Epoch 40/100\n",
            "5/5 [==============================] - 0s 3ms/step - loss: 0.2299 - accuracy: 0.9163\n",
            "Epoch 41/100\n",
            "5/5 [==============================] - 0s 3ms/step - loss: 0.2286 - accuracy: 0.9219\n",
            "Epoch 42/100\n",
            "5/5 [==============================] - 0s 3ms/step - loss: 0.2267 - accuracy: 0.9234\n",
            "Epoch 43/100\n",
            "5/5 [==============================] - 0s 3ms/step - loss: 0.2255 - accuracy: 0.9211\n",
            "Epoch 44/100\n",
            "5/5 [==============================] - 0s 3ms/step - loss: 0.2237 - accuracy: 0.9227\n",
            "Epoch 45/100\n",
            "5/5 [==============================] - 0s 3ms/step - loss: 0.2215 - accuracy: 0.9227\n",
            "Epoch 46/100\n",
            "5/5 [==============================] - 0s 3ms/step - loss: 0.2197 - accuracy: 0.9195\n",
            "Epoch 47/100\n",
            "5/5 [==============================] - 0s 3ms/step - loss: 0.2183 - accuracy: 0.9242\n",
            "Epoch 48/100\n",
            "5/5 [==============================] - 0s 3ms/step - loss: 0.2163 - accuracy: 0.9266\n",
            "Epoch 49/100\n",
            "5/5 [==============================] - 0s 3ms/step - loss: 0.2155 - accuracy: 0.9282\n",
            "Epoch 50/100\n",
            "5/5 [==============================] - 0s 3ms/step - loss: 0.2134 - accuracy: 0.9290\n",
            "Epoch 51/100\n",
            "5/5 [==============================] - 0s 3ms/step - loss: 0.2122 - accuracy: 0.9305\n",
            "Epoch 52/100\n",
            "5/5 [==============================] - 0s 2ms/step - loss: 0.2113 - accuracy: 0.9290\n",
            "Epoch 53/100\n",
            "5/5 [==============================] - 0s 3ms/step - loss: 0.2102 - accuracy: 0.9290\n",
            "Epoch 54/100\n",
            "5/5 [==============================] - 0s 3ms/step - loss: 0.2093 - accuracy: 0.9290\n",
            "Epoch 55/100\n",
            "5/5 [==============================] - 0s 3ms/step - loss: 0.2074 - accuracy: 0.9313\n",
            "Epoch 56/100\n",
            "5/5 [==============================] - 0s 3ms/step - loss: 0.2059 - accuracy: 0.9321\n",
            "Epoch 57/100\n",
            "5/5 [==============================] - 0s 3ms/step - loss: 0.2054 - accuracy: 0.9313\n",
            "Epoch 58/100\n",
            "5/5 [==============================] - 0s 3ms/step - loss: 0.2035 - accuracy: 0.9337\n",
            "Epoch 59/100\n",
            "5/5 [==============================] - 0s 3ms/step - loss: 0.2031 - accuracy: 0.9329\n",
            "Epoch 60/100\n",
            "5/5 [==============================] - 0s 3ms/step - loss: 0.2019 - accuracy: 0.9329\n",
            "Epoch 61/100\n",
            "5/5 [==============================] - 0s 3ms/step - loss: 0.2005 - accuracy: 0.9329\n",
            "Epoch 62/100\n",
            "5/5 [==============================] - 0s 3ms/step - loss: 0.1997 - accuracy: 0.9321\n",
            "Epoch 63/100\n",
            "5/5 [==============================] - 0s 3ms/step - loss: 0.1982 - accuracy: 0.9329\n",
            "Epoch 64/100\n",
            "5/5 [==============================] - 0s 3ms/step - loss: 0.1973 - accuracy: 0.9329\n",
            "Epoch 65/100\n",
            "5/5 [==============================] - 0s 3ms/step - loss: 0.1963 - accuracy: 0.9329\n",
            "Epoch 66/100\n",
            "5/5 [==============================] - 0s 3ms/step - loss: 0.1951 - accuracy: 0.9329\n",
            "Epoch 67/100\n",
            "5/5 [==============================] - 0s 4ms/step - loss: 0.1943 - accuracy: 0.9337\n",
            "Epoch 68/100\n",
            "5/5 [==============================] - 0s 3ms/step - loss: 0.1934 - accuracy: 0.9345\n",
            "Epoch 69/100\n",
            "5/5 [==============================] - 0s 3ms/step - loss: 0.1933 - accuracy: 0.9337\n",
            "Epoch 70/100\n",
            "5/5 [==============================] - 0s 3ms/step - loss: 0.1914 - accuracy: 0.9337\n",
            "Epoch 71/100\n",
            "5/5 [==============================] - 0s 2ms/step - loss: 0.1920 - accuracy: 0.9353\n",
            "Epoch 72/100\n",
            "5/5 [==============================] - 0s 3ms/step - loss: 0.1910 - accuracy: 0.9337\n",
            "Epoch 73/100\n",
            "5/5 [==============================] - 0s 3ms/step - loss: 0.1897 - accuracy: 0.9329\n",
            "Epoch 74/100\n",
            "5/5 [==============================] - 0s 3ms/step - loss: 0.1920 - accuracy: 0.9321\n",
            "Epoch 75/100\n",
            "5/5 [==============================] - 0s 3ms/step - loss: 0.1885 - accuracy: 0.9345\n",
            "Epoch 76/100\n",
            "5/5 [==============================] - 0s 3ms/step - loss: 0.1878 - accuracy: 0.9337\n",
            "Epoch 77/100\n",
            "5/5 [==============================] - 0s 3ms/step - loss: 0.1863 - accuracy: 0.9345\n",
            "Epoch 78/100\n",
            "5/5 [==============================] - 0s 3ms/step - loss: 0.1858 - accuracy: 0.9361\n",
            "Epoch 79/100\n",
            "5/5 [==============================] - 0s 3ms/step - loss: 0.1863 - accuracy: 0.9369\n",
            "Epoch 80/100\n",
            "5/5 [==============================] - 0s 3ms/step - loss: 0.1845 - accuracy: 0.9337\n",
            "Epoch 81/100\n",
            "5/5 [==============================] - 0s 3ms/step - loss: 0.1845 - accuracy: 0.9376\n",
            "Epoch 82/100\n",
            "5/5 [==============================] - 0s 3ms/step - loss: 0.1841 - accuracy: 0.9369\n",
            "Epoch 83/100\n",
            "5/5 [==============================] - 0s 2ms/step - loss: 0.1822 - accuracy: 0.9337\n",
            "Epoch 84/100\n",
            "5/5 [==============================] - 0s 3ms/step - loss: 0.1813 - accuracy: 0.9369\n",
            "Epoch 85/100\n",
            "5/5 [==============================] - 0s 3ms/step - loss: 0.1802 - accuracy: 0.9369\n",
            "Epoch 86/100\n",
            "5/5 [==============================] - 0s 3ms/step - loss: 0.1798 - accuracy: 0.9353\n",
            "Epoch 87/100\n",
            "5/5 [==============================] - 0s 3ms/step - loss: 0.1797 - accuracy: 0.9345\n",
            "Epoch 88/100\n",
            "5/5 [==============================] - 0s 3ms/step - loss: 0.1792 - accuracy: 0.9369\n",
            "Epoch 89/100\n",
            "5/5 [==============================] - 0s 3ms/step - loss: 0.1777 - accuracy: 0.9369\n",
            "Epoch 90/100\n",
            "5/5 [==============================] - 0s 3ms/step - loss: 0.1789 - accuracy: 0.9353\n",
            "Epoch 91/100\n",
            "5/5 [==============================] - 0s 3ms/step - loss: 0.1788 - accuracy: 0.9376\n",
            "Epoch 92/100\n",
            "5/5 [==============================] - 0s 3ms/step - loss: 0.1769 - accuracy: 0.9400\n",
            "Epoch 93/100\n",
            "5/5 [==============================] - 0s 3ms/step - loss: 0.1761 - accuracy: 0.9392\n",
            "Epoch 94/100\n",
            "5/5 [==============================] - 0s 3ms/step - loss: 0.1774 - accuracy: 0.9361\n",
            "Epoch 95/100\n",
            "5/5 [==============================] - 0s 3ms/step - loss: 0.1745 - accuracy: 0.9376\n",
            "Epoch 96/100\n",
            "5/5 [==============================] - 0s 3ms/step - loss: 0.1745 - accuracy: 0.9376\n",
            "Epoch 97/100\n",
            "5/5 [==============================] - 0s 3ms/step - loss: 0.1737 - accuracy: 0.9376\n",
            "Epoch 98/100\n",
            "5/5 [==============================] - 0s 4ms/step - loss: 0.1729 - accuracy: 0.9400\n",
            "Epoch 99/100\n",
            "5/5 [==============================] - 0s 3ms/step - loss: 0.1731 - accuracy: 0.9392\n",
            "Epoch 100/100\n",
            "5/5 [==============================] - 0s 3ms/step - loss: 0.1723 - accuracy: 0.9384\n"
          ],
          "name": "stdout"
        }
      ]
    },
    {
      "cell_type": "code",
      "metadata": {
        "id": "E6cfThg__U6k",
        "colab_type": "code",
        "colab": {}
      },
      "source": [
        "#Uncoment here to save the model in the Disk\n",
        "\n",
        "# serialize model to JSON\n",
        "#model_json = model2.to_json()\n",
        "#with open(\"/content/drive/My Drive/Colab Notebooks/model2.json\", \"w\") as json_file:\n",
        "#    json_file.write(model_json)\n",
        "# serialize weights to HDF5\n",
        "#model2.save_weights(\"/content/drive/My Drive/Colab Notebooks/model2.h5\")\n",
        "#print(\"Saved model to disk\")"
      ],
      "execution_count": 0,
      "outputs": []
    },
    {
      "cell_type": "code",
      "metadata": {
        "id": "dk_UpI0UJ4X7",
        "colab_type": "code",
        "colab": {
          "base_uri": "https://localhost:8080/",
          "height": 573
        },
        "outputId": "07ffda9e-8c8d-4a37-c6df-de2d44d35749"
      },
      "source": [
        "plt.plot(history.history['loss'])\n",
        "plt.title('model loss')\n",
        "plt.xlabel('epoch')\n",
        "plt.show()\n",
        "\n",
        "plt.plot(history.history['accuracy'])\n",
        "plt.title('model accuracy')\n",
        "plt.xlabel('epoch')\n",
        "plt.show()\n"
      ],
      "execution_count": 122,
      "outputs": [
        {
          "output_type": "display_data",
          "data": {
            "image/png": "[encoded data removed]",
            "text/plain": [
              "<Figure size 432x288 with 1 Axes>"
            ]
          },
          "metadata": {
            "tags": [],
            "needs_background": "light"
          }
        },
        {
          "output_type": "display_data",
          "data": {
            "image/png": "[encoded data removed]",
            "text/plain": [
              "<Figure size 432x288 with 1 Axes>"
            ]
          },
          "metadata": {
            "tags": [],
            "needs_background": "light"
          }
        }
      ]
    },
    {
      "cell_type": "markdown",
      "metadata": {
        "id": "SuWys1D7-2QG",
        "colab_type": "text"
      },
      "source": [
        "#Test\n",
        "\n"
      ]
    },
    {
      "cell_type": "code",
      "metadata": {
        "id": "gi3xtsHY-wRY",
        "colab_type": "code",
        "colab": {}
      },
      "source": [
        "#Embeddings From Multiscale CNN\n",
        "embeddings_train = model1.predict(X_train)\n",
        "embeddings_teste = model1.predict(X_test)"
      ],
      "execution_count": 0,
      "outputs": []
    },
    {
      "cell_type": "code",
      "metadata": {
        "id": "3EGNVQL5AaTr",
        "colab_type": "code",
        "colab": {}
      },
      "source": [
        "#Predict from MLP\n",
        "y_train_pred = model2.predict(embeddings_train)\n",
        "y_teste_pred = model2.predict(embeddings_teste)"
      ],
      "execution_count": 0,
      "outputs": []
    },
    {
      "cell_type": "code",
      "metadata": {
        "id": "Y5gSMig8B9fA",
        "colab_type": "code",
        "colab": {}
      },
      "source": [
        "#Transforming percent predictions to choose one classe\n",
        "def my_predict(y_in_perc):\n",
        "  n_pred = np.zeros(len(y_in_perc),dtype=int) \n",
        "  for i in range(len(y_in_perc)):  \n",
        "      if(y_in_perc[i].max() > 0.5):\n",
        "        n_pred[i] = y_in_perc[i].argmax()\n",
        "      else:\n",
        "        n_pred[i] = -1\n",
        "  return n_pred \n",
        "\n",
        "\n",
        "y_train_pred = my_predict(y_train_pred)\n",
        "y_teste_pred = my_predict(y_teste_pred) \n"
      ],
      "execution_count": 0,
      "outputs": []
    },
    {
      "cell_type": "code",
      "metadata": {
        "id": "Pd7ZK-ZqEfrW",
        "colab_type": "code",
        "colab": {
          "base_uri": "https://localhost:8080/",
          "height": 51
        },
        "outputId": "321ed09d-0266-4835-ef72-8ed6292aa619"
      },
      "source": [
        "# calculate training accuracy\n",
        "correct_preds = np.sum(y_train == y_train_pred, axis=0)\n",
        "train_acc = correct_preds / y_train.shape[0]\n",
        "\n",
        "print(f'Training accuracy: {(train_acc * 100):.2f}')\n",
        "\n",
        "# calculate testing accuracy\n",
        "correct_preds = np.sum(y_test == y_teste_pred, axis=0)\n",
        "test_acc = correct_preds / y_test.shape[0]\n",
        "\n",
        "print(f'Test accuracy: {(test_acc * 100):.2f}')"
      ],
      "execution_count": 114,
      "outputs": [
        {
          "output_type": "stream",
          "text": [
            "Training accuracy: 92.82\n",
            "Test accuracy: 92.43\n"
          ],
          "name": "stdout"
        }
      ]
    }
  ]
}